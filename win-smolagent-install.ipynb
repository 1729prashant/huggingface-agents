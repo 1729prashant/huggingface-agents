{
 "cells": [
  {
   "cell_type": "code",
   "execution_count": 1,
   "id": "bd921656-42c8-4287-a326-d63e8c83aeed",
   "metadata": {},
   "outputs": [
    {
     "name": "stdout",
     "output_type": "stream",
     "text": [
      "Collecting smolagents[toolkit]\n",
      "  Downloading smolagents-1.21.3-py3-none-any.whl.metadata (16 kB)\n",
      "Requirement already satisfied: huggingface-hub>=0.31.2 in c:\\users\\pv_ga\\documents\\anaconda3\\lib\\site-packages (from smolagents[toolkit]) (0.31.2)\n",
      "Requirement already satisfied: requests>=2.32.3 in c:\\users\\pv_ga\\documents\\anaconda3\\lib\\site-packages (from smolagents[toolkit]) (2.32.3)\n",
      "Requirement already satisfied: rich>=13.9.4 in c:\\users\\pv_ga\\documents\\anaconda3\\lib\\site-packages (from smolagents[toolkit]) (13.9.4)\n",
      "Requirement already satisfied: jinja2>=3.1.4 in c:\\users\\pv_ga\\documents\\anaconda3\\lib\\site-packages (from smolagents[toolkit]) (3.1.6)\n",
      "Requirement already satisfied: pillow>=10.0.1 in c:\\users\\pv_ga\\documents\\anaconda3\\lib\\site-packages (from smolagents[toolkit]) (11.1.0)\n",
      "Requirement already satisfied: python-dotenv in c:\\users\\pv_ga\\documents\\anaconda3\\lib\\site-packages (from smolagents[toolkit]) (1.1.0)\n",
      "Collecting ddgs>=9.0.0 (from smolagents[toolkit])\n",
      "  Downloading ddgs-9.5.5-py3-none-any.whl.metadata (18 kB)\n",
      "Collecting markdownify>=0.14.1 (from smolagents[toolkit])\n",
      "  Downloading markdownify-1.2.0-py3-none-any.whl.metadata (9.9 kB)\n",
      "Requirement already satisfied: click>=8.1.8 in c:\\users\\pv_ga\\documents\\anaconda3\\lib\\site-packages (from ddgs>=9.0.0->smolagents[toolkit]) (8.1.8)\n",
      "Collecting primp>=0.15.0 (from ddgs>=9.0.0->smolagents[toolkit])\n",
      "  Downloading primp-0.15.0-cp38-abi3-win_amd64.whl.metadata (13 kB)\n",
      "Collecting lxml>=6.0.0 (from ddgs>=9.0.0->smolagents[toolkit])\n",
      "  Downloading lxml-6.0.1-cp313-cp313-win_amd64.whl.metadata (3.9 kB)\n",
      "Requirement already satisfied: colorama in c:\\users\\pv_ga\\documents\\anaconda3\\lib\\site-packages (from click>=8.1.8->ddgs>=9.0.0->smolagents[toolkit]) (0.4.6)\n",
      "Requirement already satisfied: filelock in c:\\users\\pv_ga\\documents\\anaconda3\\lib\\site-packages (from huggingface-hub>=0.31.2->smolagents[toolkit]) (3.17.0)\n",
      "Requirement already satisfied: fsspec>=2023.5.0 in c:\\users\\pv_ga\\documents\\anaconda3\\lib\\site-packages (from huggingface-hub>=0.31.2->smolagents[toolkit]) (2025.3.2)\n",
      "Requirement already satisfied: packaging>=20.9 in c:\\users\\pv_ga\\documents\\anaconda3\\lib\\site-packages (from huggingface-hub>=0.31.2->smolagents[toolkit]) (24.2)\n",
      "Requirement already satisfied: pyyaml>=5.1 in c:\\users\\pv_ga\\documents\\anaconda3\\lib\\site-packages (from huggingface-hub>=0.31.2->smolagents[toolkit]) (6.0.2)\n",
      "Requirement already satisfied: tqdm>=4.42.1 in c:\\users\\pv_ga\\documents\\anaconda3\\lib\\site-packages (from huggingface-hub>=0.31.2->smolagents[toolkit]) (4.67.1)\n",
      "Requirement already satisfied: typing-extensions>=3.7.4.3 in c:\\users\\pv_ga\\documents\\anaconda3\\lib\\site-packages (from huggingface-hub>=0.31.2->smolagents[toolkit]) (4.12.2)\n",
      "Requirement already satisfied: MarkupSafe>=2.0 in c:\\users\\pv_ga\\documents\\anaconda3\\lib\\site-packages (from jinja2>=3.1.4->smolagents[toolkit]) (3.0.2)\n",
      "Requirement already satisfied: beautifulsoup4<5,>=4.9 in c:\\users\\pv_ga\\documents\\anaconda3\\lib\\site-packages (from markdownify>=0.14.1->smolagents[toolkit]) (4.12.3)\n",
      "Requirement already satisfied: six<2,>=1.15 in c:\\users\\pv_ga\\documents\\anaconda3\\lib\\site-packages (from markdownify>=0.14.1->smolagents[toolkit]) (1.17.0)\n",
      "Requirement already satisfied: soupsieve>1.2 in c:\\users\\pv_ga\\documents\\anaconda3\\lib\\site-packages (from beautifulsoup4<5,>=4.9->markdownify>=0.14.1->smolagents[toolkit]) (2.5)\n",
      "Requirement already satisfied: charset-normalizer<4,>=2 in c:\\users\\pv_ga\\documents\\anaconda3\\lib\\site-packages (from requests>=2.32.3->smolagents[toolkit]) (3.3.2)\n",
      "Requirement already satisfied: idna<4,>=2.5 in c:\\users\\pv_ga\\documents\\anaconda3\\lib\\site-packages (from requests>=2.32.3->smolagents[toolkit]) (3.7)\n",
      "Requirement already satisfied: urllib3<3,>=1.21.1 in c:\\users\\pv_ga\\documents\\anaconda3\\lib\\site-packages (from requests>=2.32.3->smolagents[toolkit]) (2.3.0)\n",
      "Requirement already satisfied: certifi>=2017.4.17 in c:\\users\\pv_ga\\documents\\anaconda3\\lib\\site-packages (from requests>=2.32.3->smolagents[toolkit]) (2025.8.3)\n",
      "Requirement already satisfied: markdown-it-py>=2.2.0 in c:\\users\\pv_ga\\documents\\anaconda3\\lib\\site-packages (from rich>=13.9.4->smolagents[toolkit]) (2.2.0)\n",
      "Requirement already satisfied: pygments<3.0.0,>=2.13.0 in c:\\users\\pv_ga\\documents\\anaconda3\\lib\\site-packages (from rich>=13.9.4->smolagents[toolkit]) (2.19.1)\n",
      "Requirement already satisfied: mdurl~=0.1 in c:\\users\\pv_ga\\documents\\anaconda3\\lib\\site-packages (from markdown-it-py>=2.2.0->rich>=13.9.4->smolagents[toolkit]) (0.1.0)\n",
      "Downloading smolagents-1.21.3-py3-none-any.whl (145 kB)\n",
      "Downloading ddgs-9.5.5-py3-none-any.whl (37 kB)\n",
      "Downloading lxml-6.0.1-cp313-cp313-win_amd64.whl (4.0 MB)\n",
      "   ---------------------------------------- 0.0/4.0 MB ? eta -:--:--\n",
      "   --------------- ------------------------ 1.6/4.0 MB 9.0 MB/s eta 0:00:01\n",
      "   ---------------------------------------- 4.0/4.0 MB 12.2 MB/s eta 0:00:00\n",
      "Downloading markdownify-1.2.0-py3-none-any.whl (15 kB)\n",
      "Downloading primp-0.15.0-cp38-abi3-win_amd64.whl (3.1 MB)\n",
      "   ---------------------------------------- 0.0/3.1 MB ? eta -:--:--\n",
      "   ------------------- -------------------- 1.6/3.1 MB 10.2 MB/s eta 0:00:01\n",
      "   ------------------------------------ --- 2.9/3.1 MB 6.8 MB/s eta 0:00:01\n",
      "   ---------------------------------------- 3.1/3.1 MB 6.3 MB/s eta 0:00:00\n",
      "Installing collected packages: primp, lxml, markdownify, ddgs, smolagents\n",
      "\n",
      "  Attempting uninstall: lxml\n",
      "\n",
      "    Found existing installation: lxml 5.3.0\n",
      "\n",
      "    Uninstalling lxml-5.3.0:\n",
      "\n",
      "   -------- ------------------------------- 1/5 [lxml]\n",
      "   -------- ------------------------------- 1/5 [lxml]\n",
      "   -------- ------------------------------- 1/5 [lxml]\n",
      "   -------- ------------------------------- 1/5 [lxml]\n",
      "   -------- ------------------------------- 1/5 [lxml]\n",
      "   -------- ------------------------------- 1/5 [lxml]\n",
      "   -------- ------------------------------- 1/5 [lxml]\n",
      "   -------- ------------------------------- 1/5 [lxml]\n",
      "   -------- ------------------------------- 1/5 [lxml]\n",
      "   -------- ------------------------------- 1/5 [lxml]\n",
      "      Successfully uninstalled lxml-5.3.0\n",
      "   -------- ------------------------------- 1/5 [lxml]\n",
      "   -------- ------------------------------- 1/5 [lxml]\n",
      "   -------- ------------------------------- 1/5 [lxml]\n",
      "   -------- ------------------------------- 1/5 [lxml]\n",
      "   -------- ------------------------------- 1/5 [lxml]\n",
      "   -------- ------------------------------- 1/5 [lxml]\n",
      "   -------- ------------------------------- 1/5 [lxml]\n",
      "   -------- ------------------------------- 1/5 [lxml]\n",
      "   -------- ------------------------------- 1/5 [lxml]\n",
      "   -------- ------------------------------- 1/5 [lxml]\n",
      "   -------- ------------------------------- 1/5 [lxml]\n",
      "   -------- ------------------------------- 1/5 [lxml]\n",
      "   -------- ------------------------------- 1/5 [lxml]\n",
      "   -------- ------------------------------- 1/5 [lxml]\n",
      "   -------- ------------------------------- 1/5 [lxml]\n",
      "   -------- ------------------------------- 1/5 [lxml]\n",
      "   -------- ------------------------------- 1/5 [lxml]\n",
      "   -------- ------------------------------- 1/5 [lxml]\n",
      "   -------- ------------------------------- 1/5 [lxml]\n",
      "   -------- ------------------------------- 1/5 [lxml]\n",
      "   -------- ------------------------------- 1/5 [lxml]\n",
      "   ---------------- ----------------------- 2/5 [markdownify]\n",
      "   ------------------------ --------------- 3/5 [ddgs]\n",
      "   ------------------------ --------------- 3/5 [ddgs]\n",
      "   -------------------------------- ------- 4/5 [smolagents]\n",
      "   -------------------------------- ------- 4/5 [smolagents]\n",
      "   -------------------------------- ------- 4/5 [smolagents]\n",
      "   ---------------------------------------- 5/5 [smolagents]\n",
      "\n",
      "Successfully installed ddgs-9.5.5 lxml-6.0.1 markdownify-1.2.0 primp-0.15.0 smolagents-1.21.3\n",
      "Note: you may need to restart the kernel to use updated packages.\n"
     ]
    },
    {
     "name": "stderr",
     "output_type": "stream",
     "text": [
      "  WARNING: Failed to remove contents in a temporary directory 'C:\\Users\\pv_ga\\Documents\\anaconda3\\Lib\\site-packages\\~xml'.\n",
      "  You can safely remove it manually.\n"
     ]
    }
   ],
   "source": [
    "pip install smolagents[toolkit]"
   ]
  },
  {
   "cell_type": "code",
   "execution_count": 1,
   "id": "cf0d2ea5-6444-4c54-8ab8-a00904d411b3",
   "metadata": {},
   "outputs": [
    {
     "data": {
      "text/html": [
       "<pre style=\"white-space:pre;overflow-x:auto;line-height:normal;font-family:Menlo,'DejaVu Sans Mono',consolas,'Courier New',monospace\"><span style=\"color: #d4b702; text-decoration-color: #d4b702\">╭──────────────────────────────────────────────────── </span><span style=\"color: #d4b702; text-decoration-color: #d4b702; font-weight: bold\">New run</span><span style=\"color: #d4b702; text-decoration-color: #d4b702\"> ────────────────────────────────────────────────────╮</span>\n",
       "<span style=\"color: #d4b702; text-decoration-color: #d4b702\">│</span>                                                                                                                 <span style=\"color: #d4b702; text-decoration-color: #d4b702\">│</span>\n",
       "<span style=\"color: #d4b702; text-decoration-color: #d4b702\">│</span> <span style=\"font-weight: bold\">Calculate the sum of numbers from 1 to 10</span>                                                                       <span style=\"color: #d4b702; text-decoration-color: #d4b702\">│</span>\n",
       "<span style=\"color: #d4b702; text-decoration-color: #d4b702\">│</span>                                                                                                                 <span style=\"color: #d4b702; text-decoration-color: #d4b702\">│</span>\n",
       "<span style=\"color: #d4b702; text-decoration-color: #d4b702\">╰─ InferenceClientModel - Qwen/Qwen2.5-Coder-32B-Instruct ────────────────────────────────────────────────────────╯</span>\n",
       "</pre>\n"
      ],
      "text/plain": [
       "\u001b[38;2;212;183;2m╭─\u001b[0m\u001b[38;2;212;183;2m───────────────────────────────────────────────────\u001b[0m\u001b[38;2;212;183;2m \u001b[0m\u001b[1;38;2;212;183;2mNew run\u001b[0m\u001b[38;2;212;183;2m \u001b[0m\u001b[38;2;212;183;2m───────────────────────────────────────────────────\u001b[0m\u001b[38;2;212;183;2m─╮\u001b[0m\n",
       "\u001b[38;2;212;183;2m│\u001b[0m                                                                                                                 \u001b[38;2;212;183;2m│\u001b[0m\n",
       "\u001b[38;2;212;183;2m│\u001b[0m \u001b[1mCalculate the sum of numbers from 1 to 10\u001b[0m                                                                       \u001b[38;2;212;183;2m│\u001b[0m\n",
       "\u001b[38;2;212;183;2m│\u001b[0m                                                                                                                 \u001b[38;2;212;183;2m│\u001b[0m\n",
       "\u001b[38;2;212;183;2m╰─\u001b[0m\u001b[38;2;212;183;2m InferenceClientModel - Qwen/Qwen2.5-Coder-32B-Instruct \u001b[0m\u001b[38;2;212;183;2m───────────────────────────────────────────────────────\u001b[0m\u001b[38;2;212;183;2m─╯\u001b[0m\n"
      ]
     },
     "metadata": {},
     "output_type": "display_data"
    },
    {
     "data": {
      "text/html": [
       "<pre style=\"white-space:pre;overflow-x:auto;line-height:normal;font-family:Menlo,'DejaVu Sans Mono',consolas,'Courier New',monospace\"><span style=\"color: #d4b702; text-decoration-color: #d4b702\">━━━━━━━━━━━━━━━━━━━━━━━━━━━━━━━━━━━━━━━━━━━━━━━━━━━━━ </span><span style=\"font-weight: bold\">Step 1</span><span style=\"color: #d4b702; text-decoration-color: #d4b702\"> ━━━━━━━━━━━━━━━━━━━━━━━━━━━━━━━━━━━━━━━━━━━━━━━━━━━━━━</span>\n",
       "</pre>\n"
      ],
      "text/plain": [
       "\u001b[38;2;212;183;2m━━━━━━━━━━━━━━━━━━━━━━━━━━━━━━━━━━━━━━━━━━━━━━━━━━━━━ \u001b[0m\u001b[1mStep 1\u001b[0m\u001b[38;2;212;183;2m ━━━━━━━━━━━━━━━━━━━━━━━━━━━━━━━━━━━━━━━━━━━━━━━━━━━━━━\u001b[0m\n"
      ]
     },
     "metadata": {},
     "output_type": "display_data"
    },
    {
     "data": {
      "text/html": [
       "<pre style=\"white-space:pre;overflow-x:auto;line-height:normal;font-family:Menlo,'DejaVu Sans Mono',consolas,'Courier New',monospace\"><span style=\"color: #800000; text-decoration-color: #800000; font-weight: bold\">Error in generating model output:</span>\n",
       "<span style=\"color: #800000; text-decoration-color: #800000; font-weight: bold\">You must provide an api_key to work with together API or log in with `huggingface-cli login`.</span>\n",
       "</pre>\n"
      ],
      "text/plain": [
       "\u001b[1;31mError in generating model output:\u001b[0m\n",
       "\u001b[1;31mYou must provide an api_key to work with together API or log in with `huggingface-cli login`.\u001b[0m\n"
      ]
     },
     "metadata": {},
     "output_type": "display_data"
    },
    {
     "data": {
      "text/html": [
       "<pre style=\"white-space:pre;overflow-x:auto;line-height:normal;font-family:Menlo,'DejaVu Sans Mono',consolas,'Courier New',monospace\"><span style=\"color: #7f7f7f; text-decoration-color: #7f7f7f\">[Step 1: Duration 0.37 seconds]</span>\n",
       "</pre>\n"
      ],
      "text/plain": [
       "\u001b[2m[Step 1: Duration 0.37 seconds]\u001b[0m\n"
      ]
     },
     "metadata": {},
     "output_type": "display_data"
    },
    {
     "ename": "AgentGenerationError",
     "evalue": "Error in generating model output:\nYou must provide an api_key to work with together API or log in with `huggingface-cli login`.",
     "output_type": "error",
     "traceback": [
      "\u001b[1;31m---------------------------------------------------------------------------\u001b[0m",
      "\u001b[1;31mValueError\u001b[0m                                Traceback (most recent call last)",
      "File \u001b[1;32m~\\Documents\\anaconda3\\Lib\\site-packages\\smolagents\\agents.py:1615\u001b[0m, in \u001b[0;36mCodeAgent._step_stream\u001b[1;34m(self, memory_step)\u001b[0m\n\u001b[0;32m   1614\u001b[0m \u001b[38;5;28;01melse\u001b[39;00m:\n\u001b[1;32m-> 1615\u001b[0m     chat_message: ChatMessage \u001b[38;5;241m=\u001b[39m \u001b[38;5;28mself\u001b[39m\u001b[38;5;241m.\u001b[39mmodel\u001b[38;5;241m.\u001b[39mgenerate(\n\u001b[0;32m   1616\u001b[0m         input_messages,\n\u001b[0;32m   1617\u001b[0m         stop_sequences\u001b[38;5;241m=\u001b[39mstop_sequences,\n\u001b[0;32m   1618\u001b[0m         \u001b[38;5;241m*\u001b[39m\u001b[38;5;241m*\u001b[39madditional_args,\n\u001b[0;32m   1619\u001b[0m     )\n\u001b[0;32m   1620\u001b[0m     memory_step\u001b[38;5;241m.\u001b[39mmodel_output_message \u001b[38;5;241m=\u001b[39m chat_message\n",
      "File \u001b[1;32m~\\Documents\\anaconda3\\Lib\\site-packages\\smolagents\\models.py:1406\u001b[0m, in \u001b[0;36mInferenceClientModel.generate\u001b[1;34m(self, messages, stop_sequences, response_format, tools_to_call_from, **kwargs)\u001b[0m\n\u001b[0;32m   1405\u001b[0m \u001b[38;5;28mself\u001b[39m\u001b[38;5;241m.\u001b[39m_apply_rate_limit()\n\u001b[1;32m-> 1406\u001b[0m response \u001b[38;5;241m=\u001b[39m \u001b[38;5;28mself\u001b[39m\u001b[38;5;241m.\u001b[39mclient\u001b[38;5;241m.\u001b[39mchat_completion(\u001b[38;5;241m*\u001b[39m\u001b[38;5;241m*\u001b[39mcompletion_kwargs)\n\u001b[0;32m   1407\u001b[0m \u001b[38;5;28;01mreturn\u001b[39;00m ChatMessage\u001b[38;5;241m.\u001b[39mfrom_dict(\n\u001b[0;32m   1408\u001b[0m     asdict(response\u001b[38;5;241m.\u001b[39mchoices[\u001b[38;5;241m0\u001b[39m]\u001b[38;5;241m.\u001b[39mmessage),\n\u001b[0;32m   1409\u001b[0m     raw\u001b[38;5;241m=\u001b[39mresponse,\n\u001b[1;32m   (...)\u001b[0m\n\u001b[0;32m   1413\u001b[0m     ),\n\u001b[0;32m   1414\u001b[0m )\n",
      "File \u001b[1;32m~\\Documents\\anaconda3\\Lib\\site-packages\\huggingface_hub\\inference\\_client.py:916\u001b[0m, in \u001b[0;36mInferenceClient.chat_completion\u001b[1;34m(self, messages, model, stream, frequency_penalty, logit_bias, logprobs, max_tokens, n, presence_penalty, response_format, seed, stop, stream_options, temperature, tool_choice, tool_prompt, tools, top_logprobs, top_p, extra_body)\u001b[0m\n\u001b[0;32m    895\u001b[0m parameters \u001b[38;5;241m=\u001b[39m {\n\u001b[0;32m    896\u001b[0m     \u001b[38;5;124m\"\u001b[39m\u001b[38;5;124mmodel\u001b[39m\u001b[38;5;124m\"\u001b[39m: payload_model,\n\u001b[0;32m    897\u001b[0m     \u001b[38;5;124m\"\u001b[39m\u001b[38;5;124mfrequency_penalty\u001b[39m\u001b[38;5;124m\"\u001b[39m: frequency_penalty,\n\u001b[1;32m   (...)\u001b[0m\n\u001b[0;32m    914\u001b[0m     \u001b[38;5;241m*\u001b[39m\u001b[38;5;241m*\u001b[39m(extra_body \u001b[38;5;129;01mor\u001b[39;00m {}),\n\u001b[0;32m    915\u001b[0m }\n\u001b[1;32m--> 916\u001b[0m request_parameters \u001b[38;5;241m=\u001b[39m provider_helper\u001b[38;5;241m.\u001b[39mprepare_request(\n\u001b[0;32m    917\u001b[0m     inputs\u001b[38;5;241m=\u001b[39mmessages,\n\u001b[0;32m    918\u001b[0m     parameters\u001b[38;5;241m=\u001b[39mparameters,\n\u001b[0;32m    919\u001b[0m     headers\u001b[38;5;241m=\u001b[39m\u001b[38;5;28mself\u001b[39m\u001b[38;5;241m.\u001b[39mheaders,\n\u001b[0;32m    920\u001b[0m     model\u001b[38;5;241m=\u001b[39mmodel_id_or_url,\n\u001b[0;32m    921\u001b[0m     api_key\u001b[38;5;241m=\u001b[39m\u001b[38;5;28mself\u001b[39m\u001b[38;5;241m.\u001b[39mtoken,\n\u001b[0;32m    922\u001b[0m )\n\u001b[0;32m    923\u001b[0m data \u001b[38;5;241m=\u001b[39m \u001b[38;5;28mself\u001b[39m\u001b[38;5;241m.\u001b[39m_inner_post(request_parameters, stream\u001b[38;5;241m=\u001b[39mstream)\n",
      "File \u001b[1;32m~\\Documents\\anaconda3\\Lib\\site-packages\\huggingface_hub\\inference\\_providers\\_common.py:64\u001b[0m, in \u001b[0;36mTaskProviderHelper.prepare_request\u001b[1;34m(self, inputs, parameters, headers, model, api_key, extra_payload)\u001b[0m\n\u001b[0;32m     63\u001b[0m \u001b[38;5;66;03m# api_key from user, or local token, or raise error\u001b[39;00m\n\u001b[1;32m---> 64\u001b[0m api_key \u001b[38;5;241m=\u001b[39m \u001b[38;5;28mself\u001b[39m\u001b[38;5;241m.\u001b[39m_prepare_api_key(api_key)\n\u001b[0;32m     66\u001b[0m \u001b[38;5;66;03m# mapped model from HF model ID\u001b[39;00m\n",
      "File \u001b[1;32m~\\Documents\\anaconda3\\Lib\\site-packages\\huggingface_hub\\inference\\_providers\\_common.py:110\u001b[0m, in \u001b[0;36mTaskProviderHelper._prepare_api_key\u001b[1;34m(self, api_key)\u001b[0m\n\u001b[0;32m    109\u001b[0m \u001b[38;5;28;01mif\u001b[39;00m api_key \u001b[38;5;129;01mis\u001b[39;00m \u001b[38;5;28;01mNone\u001b[39;00m:\n\u001b[1;32m--> 110\u001b[0m     \u001b[38;5;28;01mraise\u001b[39;00m \u001b[38;5;167;01mValueError\u001b[39;00m(\n\u001b[0;32m    111\u001b[0m         \u001b[38;5;124mf\u001b[39m\u001b[38;5;124m\"\u001b[39m\u001b[38;5;124mYou must provide an api_key to work with \u001b[39m\u001b[38;5;132;01m{\u001b[39;00m\u001b[38;5;28mself\u001b[39m\u001b[38;5;241m.\u001b[39mprovider\u001b[38;5;132;01m}\u001b[39;00m\u001b[38;5;124m API or log in with `huggingface-cli login`.\u001b[39m\u001b[38;5;124m\"\u001b[39m\n\u001b[0;32m    112\u001b[0m     )\n\u001b[0;32m    113\u001b[0m \u001b[38;5;28;01mreturn\u001b[39;00m api_key\n",
      "\u001b[1;31mValueError\u001b[0m: You must provide an api_key to work with together API or log in with `huggingface-cli login`.",
      "\nThe above exception was the direct cause of the following exception:\n",
      "\u001b[1;31mAgentGenerationError\u001b[0m                      Traceback (most recent call last)",
      "Cell \u001b[1;32mIn[1], line 10\u001b[0m\n\u001b[0;32m      7\u001b[0m agent \u001b[38;5;241m=\u001b[39m CodeAgent(tools\u001b[38;5;241m=\u001b[39m[], model\u001b[38;5;241m=\u001b[39mmodel)\n\u001b[0;32m      9\u001b[0m \u001b[38;5;66;03m# Run the agent with a task\u001b[39;00m\n\u001b[1;32m---> 10\u001b[0m result \u001b[38;5;241m=\u001b[39m agent\u001b[38;5;241m.\u001b[39mrun(\u001b[38;5;124m\"\u001b[39m\u001b[38;5;124mCalculate the sum of numbers from 1 to 10\u001b[39m\u001b[38;5;124m\"\u001b[39m)\n\u001b[0;32m     11\u001b[0m \u001b[38;5;28mprint\u001b[39m(result)\n",
      "File \u001b[1;32m~\\Documents\\anaconda3\\Lib\\site-packages\\smolagents\\agents.py:456\u001b[0m, in \u001b[0;36mMultiStepAgent.run\u001b[1;34m(self, task, stream, reset, images, additional_args, max_steps)\u001b[0m\n\u001b[0;32m    453\u001b[0m run_start_time \u001b[38;5;241m=\u001b[39m time\u001b[38;5;241m.\u001b[39mtime()\n\u001b[0;32m    454\u001b[0m \u001b[38;5;66;03m# Outputs are returned only at the end. We only look at the last step.\u001b[39;00m\n\u001b[1;32m--> 456\u001b[0m steps \u001b[38;5;241m=\u001b[39m \u001b[38;5;28mlist\u001b[39m(\u001b[38;5;28mself\u001b[39m\u001b[38;5;241m.\u001b[39m_run_stream(task\u001b[38;5;241m=\u001b[39m\u001b[38;5;28mself\u001b[39m\u001b[38;5;241m.\u001b[39mtask, max_steps\u001b[38;5;241m=\u001b[39mmax_steps, images\u001b[38;5;241m=\u001b[39mimages))\n\u001b[0;32m    457\u001b[0m \u001b[38;5;28;01massert\u001b[39;00m \u001b[38;5;28misinstance\u001b[39m(steps[\u001b[38;5;241m-\u001b[39m\u001b[38;5;241m1\u001b[39m], FinalAnswerStep)\n\u001b[0;32m    458\u001b[0m output \u001b[38;5;241m=\u001b[39m steps[\u001b[38;5;241m-\u001b[39m\u001b[38;5;241m1\u001b[39m]\u001b[38;5;241m.\u001b[39moutput\n",
      "File \u001b[1;32m~\\Documents\\anaconda3\\Lib\\site-packages\\smolagents\\agents.py:550\u001b[0m, in \u001b[0;36mMultiStepAgent._run_stream\u001b[1;34m(self, task, max_steps, images)\u001b[0m\n\u001b[0;32m    546\u001b[0m             action_step\u001b[38;5;241m.\u001b[39mis_final_answer \u001b[38;5;241m=\u001b[39m \u001b[38;5;28;01mTrue\u001b[39;00m\n\u001b[0;32m    548\u001b[0m \u001b[38;5;28;01mexcept\u001b[39;00m AgentGenerationError \u001b[38;5;28;01mas\u001b[39;00m e:\n\u001b[0;32m    549\u001b[0m     \u001b[38;5;66;03m# Agent generation errors are not caused by a Model error but an implementation error: so we should raise them and exit.\u001b[39;00m\n\u001b[1;32m--> 550\u001b[0m     \u001b[38;5;28;01mraise\u001b[39;00m e\n\u001b[0;32m    551\u001b[0m \u001b[38;5;28;01mexcept\u001b[39;00m AgentError \u001b[38;5;28;01mas\u001b[39;00m e:\n\u001b[0;32m    552\u001b[0m     \u001b[38;5;66;03m# Other AgentError types are caused by the Model, so we should log them and iterate.\u001b[39;00m\n\u001b[0;32m    553\u001b[0m     action_step\u001b[38;5;241m.\u001b[39merror \u001b[38;5;241m=\u001b[39m e\n",
      "File \u001b[1;32m~\\Documents\\anaconda3\\Lib\\site-packages\\smolagents\\agents.py:532\u001b[0m, in \u001b[0;36mMultiStepAgent._run_stream\u001b[1;34m(self, task, max_steps, images)\u001b[0m\n\u001b[0;32m    530\u001b[0m \u001b[38;5;28mself\u001b[39m\u001b[38;5;241m.\u001b[39mlogger\u001b[38;5;241m.\u001b[39mlog_rule(\u001b[38;5;124mf\u001b[39m\u001b[38;5;124m\"\u001b[39m\u001b[38;5;124mStep \u001b[39m\u001b[38;5;132;01m{\u001b[39;00m\u001b[38;5;28mself\u001b[39m\u001b[38;5;241m.\u001b[39mstep_number\u001b[38;5;132;01m}\u001b[39;00m\u001b[38;5;124m\"\u001b[39m, level\u001b[38;5;241m=\u001b[39mLogLevel\u001b[38;5;241m.\u001b[39mINFO)\n\u001b[0;32m    531\u001b[0m \u001b[38;5;28;01mtry\u001b[39;00m:\n\u001b[1;32m--> 532\u001b[0m     \u001b[38;5;28;01mfor\u001b[39;00m output \u001b[38;5;129;01min\u001b[39;00m \u001b[38;5;28mself\u001b[39m\u001b[38;5;241m.\u001b[39m_step_stream(action_step):\n\u001b[0;32m    533\u001b[0m         \u001b[38;5;66;03m# Yield all\u001b[39;00m\n\u001b[0;32m    534\u001b[0m         \u001b[38;5;28;01myield\u001b[39;00m output\n\u001b[0;32m    536\u001b[0m         \u001b[38;5;28;01mif\u001b[39;00m \u001b[38;5;28misinstance\u001b[39m(output, ActionOutput) \u001b[38;5;129;01mand\u001b[39;00m output\u001b[38;5;241m.\u001b[39mis_final_answer:\n",
      "File \u001b[1;32m~\\Documents\\anaconda3\\Lib\\site-packages\\smolagents\\agents.py:1638\u001b[0m, in \u001b[0;36mCodeAgent._step_stream\u001b[1;34m(self, memory_step)\u001b[0m\n\u001b[0;32m   1636\u001b[0m     memory_step\u001b[38;5;241m.\u001b[39mmodel_output \u001b[38;5;241m=\u001b[39m output_text\n\u001b[0;32m   1637\u001b[0m \u001b[38;5;28;01mexcept\u001b[39;00m \u001b[38;5;167;01mException\u001b[39;00m \u001b[38;5;28;01mas\u001b[39;00m e:\n\u001b[1;32m-> 1638\u001b[0m     \u001b[38;5;28;01mraise\u001b[39;00m AgentGenerationError(\u001b[38;5;124mf\u001b[39m\u001b[38;5;124m\"\u001b[39m\u001b[38;5;124mError in generating model output:\u001b[39m\u001b[38;5;130;01m\\n\u001b[39;00m\u001b[38;5;132;01m{\u001b[39;00me\u001b[38;5;132;01m}\u001b[39;00m\u001b[38;5;124m\"\u001b[39m, \u001b[38;5;28mself\u001b[39m\u001b[38;5;241m.\u001b[39mlogger) \u001b[38;5;28;01mfrom\u001b[39;00m\u001b[38;5;250m \u001b[39m\u001b[38;5;21;01me\u001b[39;00m\n\u001b[0;32m   1640\u001b[0m \u001b[38;5;66;03m### Parse output ###\u001b[39;00m\n\u001b[0;32m   1641\u001b[0m \u001b[38;5;28;01mtry\u001b[39;00m:\n",
      "\u001b[1;31mAgentGenerationError\u001b[0m: Error in generating model output:\nYou must provide an api_key to work with together API or log in with `huggingface-cli login`."
     ]
    }
   ],
   "source": [
    "from smolagents import CodeAgent, InferenceClientModel\n",
    "\n",
    "# Initialize a model (using Hugging Face Inference API)\n",
    "model = InferenceClientModel()  # Uses a default model\n",
    "\n",
    "# Create an agent with no tools\n",
    "agent = CodeAgent(tools=[], model=model)\n",
    "\n",
    "# Run the agent with a task\n",
    "result = agent.run(\"Calculate the sum of numbers from 1 to 10\")\n",
    "print(result)"
   ]
  },
  {
   "cell_type": "code",
   "execution_count": 1,
   "id": "9a0cfd44-a3fc-4b24-99eb-5d590fd7332a",
   "metadata": {},
   "outputs": [
    {
     "name": "stdout",
     "output_type": "stream",
     "text": [
      "For payment number: 24 principal=176.003, interest=113.997, and remaining balance=11223.715.\n",
      "For payment number: 24 principal=176.0, interest=114.0, and remaining balance=11223.71.\n"
     ]
    }
   ],
   "source": [
    "def Amortize(intr: float, pb: float, pmt: float, pmtnbr: int, precision: int = 3) -> str:\n",
    "    \"\"\"Use the Amortize function to compute the amount of a loan payment applied towards interest (payintr), \n",
    "       the amount of the payment applied towards principal (payprin), and the remaining balance balance, \n",
    "       based on the principal balance (pb) at the beginning of the loan term, the amount of one payment pmt, \n",
    "       the interest rate charged during one payment period (intr), and the payment number pmtnbr. Function allows user\n",
    "       to round off resulting amounts upto digits specified in precision argument.\n",
    "       \n",
    "    Args:\n",
    "        intr:      float, Number indicating the percent of interest charged per payment period.\n",
    "        pb:        float, Principal balance at the beginning of the loan term (generally speaking, the amount of the loan).\n",
    "        pmt:       float, The amount of one loan payment.\n",
    "        pmtnbr:    int, The number of the payment.\n",
    "        precision: int, Number of decimal places to round results to (default = 3).\n",
    "        \n",
    "    Returns:\n",
    "        str: A string of the calculated principal (payprin), interest (payintr), \n",
    "             and remaining balance (balance) for the input payment number (pmtnbr), upto\n",
    "        \n",
    "        payintr: float, The amount of the payment paid toward interest.\n",
    "        payprin: float, The amount of the payment paid toward principal.\n",
    "        balance: float, The remaining balance after the payment.\n",
    "    \"\"\"\n",
    "    try:\n",
    "        balance = pb\n",
    "        payintr = payprin = 0.0\n",
    "    \n",
    "        for _ in range(pmtnbr):\n",
    "            payintr = balance * (intr / 100.0)\n",
    "            payprin = pmt - payintr\n",
    "            balance -= payprin\n",
    "        \n",
    "        payintr = round(payintr, precision)\n",
    "        payprin = round(payprin, precision)\n",
    "        balance = round(balance, precision)\n",
    "        \n",
    "        return f\"For payment number: {pmtnbr} principal={payprin}, interest={payintr}, and remaining balance={balance}.\"\n",
    "    except Exception:\n",
    "        return f\"Error performing calculations\"\n",
    "\n",
    "print(Amortize(1, 15000, 290, 24))           # default precision 3\n",
    "print(Amortize(1, 15000, 290, 24, precision=2))"
   ]
  },
  {
   "cell_type": "code",
   "execution_count": null,
   "id": "6f2b170c-c98f-4737-9410-721b660ccce5",
   "metadata": {},
   "outputs": [],
   "source": []
  }
 ],
 "metadata": {
  "kernelspec": {
   "display_name": "Python 3 (ipykernel)",
   "language": "python",
   "name": "python3"
  },
  "language_info": {
   "codemirror_mode": {
    "name": "ipython",
    "version": 3
   },
   "file_extension": ".py",
   "mimetype": "text/x-python",
   "name": "python",
   "nbconvert_exporter": "python",
   "pygments_lexer": "ipython3",
   "version": "3.13.5"
  }
 },
 "nbformat": 4,
 "nbformat_minor": 5
}
