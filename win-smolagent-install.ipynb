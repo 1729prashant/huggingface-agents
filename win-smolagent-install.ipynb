{
 "cells": [
  {
   "cell_type": "code",
   "execution_count": null,
   "id": "bd921656-42c8-4287-a326-d63e8c83aeed",
   "metadata": {},
   "outputs": [],
   "source": [
    "#pip install smolagents[toolkit]\n",
    "#!pip install 'smolagents[toolkit]'\n",
    "\n",
    "\n",
    "#debugging, when the above dont work\n",
    "import sys\n",
    "print(sys.executable)\n",
    "\n",
    "!which pip # mac os\n",
    "\n",
    "import sys\n",
    "#!{sys.executable} -m pip install 'smolagents[toolkit]'\n",
    "!{sys.executable} -m pip install rank_bm25"
   ]
  },
  {
   "cell_type": "code",
   "execution_count": null,
   "id": "cf0d2ea5-6444-4c54-8ab8-a00904d411b3",
   "metadata": {},
   "outputs": [],
   "source": [
    "from smolagents import CodeAgent, InferenceClientModel\n",
    "\n",
    "# Initialize a model (using Hugging Face Inference API)\n",
    "model = InferenceClientModel()  # Uses a default model\n",
    "\n",
    "# Create an agent with no tools\n",
    "agent = CodeAgent(tools=[], model=model)\n",
    "\n",
    "# Run the agent with a task\n",
    "result = agent.run(\"Calculate the sum of numbers from 1 to 10\")\n",
    "print(result)"
   ]
  },
  {
   "cell_type": "code",
   "execution_count": null,
   "id": "9a0cfd44-a3fc-4b24-99eb-5d590fd7332a",
   "metadata": {},
   "outputs": [],
   "source": [
    "def Amortize(intr: float, pb: float, pmt: float, pmtnbr: int, precision: int = 3) -> str:\n",
    "    \"\"\"Use the Amortize function to compute the amount of a loan payment applied towards interest (payintr), \n",
    "       the amount of the payment applied towards principal (payprin), and the remaining balance balance, \n",
    "       based on the principal balance (pb) at the beginning of the loan term, the amount of one payment pmt, \n",
    "       the interest rate charged during one payment period (intr), and the payment number pmtnbr. Function allows user\n",
    "       to round off resulting amounts upto digits specified in precision argument.\n",
    "       \n",
    "    Args:\n",
    "        intr:      float, Number indicating the percent of interest charged per payment period.\n",
    "        pb:        float, Principal balance at the beginning of the loan term (generally speaking, the amount of the loan).\n",
    "        pmt:       float, The amount of one loan payment.\n",
    "        pmtnbr:    int, The number of the payment.\n",
    "        precision: int, Number of decimal places to round results to (default = 3).\n",
    "        \n",
    "    Returns:\n",
    "        str: A string of the calculated principal (payprin), interest (payintr), \n",
    "             and remaining balance (balance) for the input payment number (pmtnbr), upto\n",
    "        \n",
    "        payintr: float, The amount of the payment paid toward interest.\n",
    "        payprin: float, The amount of the payment paid toward principal.\n",
    "        balance: float, The remaining balance after the payment.\n",
    "    \"\"\"\n",
    "    try:\n",
    "        balance = pb\n",
    "        payintr = payprin = 0.0\n",
    "    \n",
    "        for _ in range(pmtnbr):\n",
    "            payintr = balance * (intr / 100.0)\n",
    "            payprin = pmt - payintr\n",
    "            balance -= payprin\n",
    "        \n",
    "        payintr = round(payintr, precision)\n",
    "        payprin = round(payprin, precision)\n",
    "        balance = round(balance, precision)\n",
    "        \n",
    "        return f\"For payment number: {pmtnbr} principal={payprin}, interest={payintr}, and remaining balance={balance}.\"\n",
    "    except Exception:\n",
    "        return f\"Error performing calculations\"\n",
    "\n",
    "print(Amortize(1, 15000, 290, 24))           # default precision 3\n",
    "print(Amortize(1, 15000, 290, 24, precision=2))"
   ]
  },
  {
   "cell_type": "code",
   "execution_count": null,
   "id": "6f2b170c-c98f-4737-9410-721b660ccce5",
   "metadata": {},
   "outputs": [],
   "source": []
  }
 ],
 "metadata": {
  "kernelspec": {
   "display_name": "Python 3 (ipykernel)",
   "language": "python",
   "name": "python3"
  },
  "language_info": {
   "codemirror_mode": {
    "name": "ipython",
    "version": 3
   },
   "file_extension": ".py",
   "mimetype": "text/x-python",
   "name": "python",
   "nbconvert_exporter": "python",
   "pygments_lexer": "ipython3",
   "version": "3.13.5"
  }
 },
 "nbformat": 4,
 "nbformat_minor": 5
}
