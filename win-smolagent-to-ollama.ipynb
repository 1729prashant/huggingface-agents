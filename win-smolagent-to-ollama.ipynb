{
 "cells": [
  {
   "cell_type": "code",
   "execution_count": 1,
   "id": "ddd853ba-24a4-4a7d-acc4-3c3f0214ad82",
   "metadata": {},
   "outputs": [
    {
     "name": "stdout",
     "output_type": "stream",
     "text": [
      "Collecting ollama\n",
      "  Downloading ollama-0.5.4-py3-none-any.whl.metadata (4.3 kB)\n",
      "Requirement already satisfied: httpx>=0.27 in c:\\users\\pv_ga\\documents\\anaconda3\\lib\\site-packages (from ollama) (0.28.1)\n",
      "Requirement already satisfied: pydantic>=2.9 in c:\\users\\pv_ga\\documents\\anaconda3\\lib\\site-packages (from ollama) (2.10.3)\n",
      "Requirement already satisfied: anyio in c:\\users\\pv_ga\\documents\\anaconda3\\lib\\site-packages (from httpx>=0.27->ollama) (4.7.0)\n",
      "Requirement already satisfied: certifi in c:\\users\\pv_ga\\documents\\anaconda3\\lib\\site-packages (from httpx>=0.27->ollama) (2025.8.3)\n",
      "Requirement already satisfied: httpcore==1.* in c:\\users\\pv_ga\\documents\\anaconda3\\lib\\site-packages (from httpx>=0.27->ollama) (1.0.9)\n",
      "Requirement already satisfied: idna in c:\\users\\pv_ga\\documents\\anaconda3\\lib\\site-packages (from httpx>=0.27->ollama) (3.7)\n",
      "Requirement already satisfied: h11>=0.16 in c:\\users\\pv_ga\\documents\\anaconda3\\lib\\site-packages (from httpcore==1.*->httpx>=0.27->ollama) (0.16.0)\n",
      "Requirement already satisfied: annotated-types>=0.6.0 in c:\\users\\pv_ga\\documents\\anaconda3\\lib\\site-packages (from pydantic>=2.9->ollama) (0.6.0)\n",
      "Requirement already satisfied: pydantic-core==2.27.1 in c:\\users\\pv_ga\\documents\\anaconda3\\lib\\site-packages (from pydantic>=2.9->ollama) (2.27.1)\n",
      "Requirement already satisfied: typing-extensions>=4.12.2 in c:\\users\\pv_ga\\documents\\anaconda3\\lib\\site-packages (from pydantic>=2.9->ollama) (4.12.2)\n",
      "Requirement already satisfied: sniffio>=1.1 in c:\\users\\pv_ga\\documents\\anaconda3\\lib\\site-packages (from anyio->httpx>=0.27->ollama) (1.3.0)\n",
      "Downloading ollama-0.5.4-py3-none-any.whl (13 kB)\n",
      "Installing collected packages: ollama\n",
      "Successfully installed ollama-0.5.4\n"
     ]
    }
   ],
   "source": [
    "!pip install ollama\n"
   ]
  },
  {
   "cell_type": "code",
   "execution_count": 3,
   "id": "92b0012a-c1c7-454e-a4dc-d022b7a925db",
   "metadata": {},
   "outputs": [
    {
     "name": "stdout",
     "output_type": "stream",
     "text": [
      "Sure! Here's a simple Python function that takes two numbers as input and returns their sum:\n",
      "\n",
      "```python\n",
      "def add_two_numbers(num1, num2):\n",
      "    return num1 + num2\n",
      "\n",
      "# Example usage:\n",
      "result = add_two_numbers(5, 3)\n",
      "print(\"The sum of 5 and 3 is:\", result)\n",
      "```\n",
      "\n",
      "You can call this function with any two numbers to get their sum.\n"
     ]
    }
   ],
   "source": [
    "# example call\n",
    "\n",
    "import ollama\n",
    "\n",
    "OLLAMA_MODEL = \"qwen2.5-coder:7b\"\n",
    "response = ollama.chat(\n",
    "    model=OLLAMA_MODEL,  # or your chosen local model\n",
    "    messages=[{\"role\": \"user\", \"content\": \"Write Python code that adds two numbers\"}]\n",
    ")\n",
    "\n",
    "print(response['message']['content'])\n"
   ]
  },
  {
   "cell_type": "code",
   "execution_count": 13,
   "id": "b30e0998-6a29-4062-b1b4-3bc0a09710d6",
   "metadata": {},
   "outputs": [],
   "source": [
    "# Building a Local CodeAgent Skeleton\n",
    "import ollama\n",
    "import traceback\n",
    "import io, contextlib # for execute_code\n",
    "\n",
    "OLLAMA_MODEL = \"qwen2.5-coder:7b\"\n",
    "\n",
    "class LocalOllamaModel:\n",
    "    def __init__(self, model_name=OLLAMA_MODEL):\n",
    "        self.model_name = model_name\n",
    "\n",
    "    def generate(self, messages):\n",
    "        \"\"\"Send conversation context to Ollama and return LLM completion.\"\"\"\n",
    "        response = ollama.chat(model=self.model_name, messages=messages)\n",
    "        return response[\"message\"][\"content\"]\n",
    "\n",
    "\n",
    "class CodeAgent:\n",
    "    def __init__(self, tools=None, model=None, authorized_imports=None):\n",
    "        self.tools = tools or {}\n",
    "        self.model = model\n",
    "        self.memory = []\n",
    "        self.authorized_imports = authorized_imports or []\n",
    "\n",
    "    def run(self, task: str, max_steps=5):\n",
    "        # Initialize conversation\n",
    "        self.memory.append({\"role\": \"system\", \"content\": \"You are a code-executing assistant. Output Python code only when needed.\"})\n",
    "        self.memory.append({\"role\": \"user\", \"content\": task})\n",
    "\n",
    "        for step in range(max_steps):\n",
    "            # 1. Ask LLM for next action\n",
    "            completion = self.model.generate(self.memory)\n",
    "            print(f\"\\n--- Step {step+1} LLM Output ---\\n{completion}\")\n",
    "\n",
    "            # 2. Try to extract Python code\n",
    "            code = self.extract_code(completion)\n",
    "            if code:\n",
    "                try:\n",
    "                    result = self.execute_code(code)\n",
    "                except Exception as e:\n",
    "                    result = f\"Execution error: {e}\\n{traceback.format_exc()}\"\n",
    "\n",
    "                print(f\"--- Step {step+1} Execution Result ---\\n{result}\")\n",
    "\n",
    "                # Log result back to memory\n",
    "                self.memory.append({\"role\": \"assistant\", \"content\": completion})\n",
    "                self.memory.append({\"role\": \"system\", \"content\": f\"Execution result: {result}\"})\n",
    "            else:\n",
    "                # If no code block, assume final answer\n",
    "                return completion\n",
    "\n",
    "        return \"Max steps reached.\"\n",
    "\n",
    "    def extract_code(self, text: str):\n",
    "        \"\"\"Naive code block extraction from markdown triple backticks.\"\"\"\n",
    "        if \"```\" in text:\n",
    "            parts = text.split(\"```\")\n",
    "            return parts[1] if len(parts) > 1 else None\n",
    "        return None\n",
    "  \n",
    "\n",
    "    def execute_code_hasissues(self, code: str):\n",
    "        local_env = {}\n",
    "        local_env.update(self.tools)\n",
    "        safe_globals = {\"__builtins__\": __builtins__}\n",
    "        for imp in self.authorized_imports:\n",
    "            safe_globals[imp] = __import__(imp)\n",
    "\n",
    "        buffer = io.StringIO()\n",
    "        with contextlib.redirect_stdout(buffer):\n",
    "            exec(code, safe_globals, local_env)\n",
    "        output = buffer.getvalue()\n",
    "        return output or local_env.get(\"result\", \"✅ Code executed with no output.\")\n",
    "\n",
    "    def execute_code(self, text: str):\n",
    "        \"\"\"Extract Python code from markdown triple backticks.\"\"\"\n",
    "        if \"```\" in text:\n",
    "            parts = text.split(\"```\")\n",
    "            if len(parts) > 1:\n",
    "                code = parts[1].strip()\n",
    "                # 🔑 Remove optional \"python\" or \"py\" language tags\n",
    "                if code.lower().startswith(\"python\"):\n",
    "                    code = code[6:].strip()\n",
    "                elif code.lower().startswith(\"py\"):\n",
    "                    code = code[2:].strip()\n",
    "                return code\n",
    "        return None"
   ]
  },
  {
   "cell_type": "code",
   "execution_count": 14,
   "id": "7a41f050-f26a-4a2f-a758-af45c65e89f5",
   "metadata": {},
   "outputs": [
    {
     "name": "stdout",
     "output_type": "stream",
     "text": [
      "\n",
      "--- Step 1 LLM Output ---\n",
      "Certainly! Below is an example of a formal menu that could be prepared for a party. This is just one possible menu; you can modify it based on your preferences, dietary requirements, and the time of day.\n",
      "\n",
      "---\n",
      "\n",
      "**[Event Name] Party Menu**\n",
      "\n",
      "*Appetizers:*\n",
      "- Bruschetta with Fresh Mozzarella, Cherry Tomatoes, and Basil\n",
      "- Mini Caprese Salad with Balsamic Glaze\n",
      "- Shrimp Cocktail with Avocado and Cilantro\n",
      "- Assorted Deviled Eggs\n",
      "\n",
      "*First Course:*\n",
      "- Grilled Salmon Fillets with Lemon-Dill Butter Sauce\n",
      "- Herb-Crusted Rack of Lamb\n",
      "- Pan-Seared Duck Breast with Honey Glaze\n",
      "\n",
      "*Salad:*\n",
      "- Mixed Greens Salad with Roasted Vegetables, Balsamic Vinaigrette\n",
      "\n",
      "*Second Course:*\n",
      "- Beef Wellington with Truffle Sauce and Mashed Potatoes\n",
      "- Grilled Portobello Mushrooms with Garlic Butter\n",
      "- Shrimp and Gnocchi in Creamy Alfredo Sauce\n",
      "\n",
      "*Desserts:*\n",
      "- Tiramisu with Espresso Liqueur\n",
      "- Chocolate Fondue with Berries, Marshmallows, and Almonds\n",
      "- Mini Pecan Pie Bars\n",
      "\n",
      "*Drinks:*\n",
      "- Sparkling Water with Lemon and Lime\n",
      "- Various Soft Drinks\n",
      "- Coffee and Tea\n",
      "- Fine Wine Selection\n",
      "- Domestic Beer and Hard Cider (if applicable)\n",
      "\n",
      "---\n",
      "\n",
      "Feel free to adjust the menu items to better suit your needs or preferences.\n"
     ]
    },
    {
     "data": {
      "text/plain": [
       "'Certainly! Below is an example of a formal menu that could be prepared for a party. This is just one possible menu; you can modify it based on your preferences, dietary requirements, and the time of day.\\n\\n---\\n\\n**[Event Name] Party Menu**\\n\\n*Appetizers:*\\n- Bruschetta with Fresh Mozzarella, Cherry Tomatoes, and Basil\\n- Mini Caprese Salad with Balsamic Glaze\\n- Shrimp Cocktail with Avocado and Cilantro\\n- Assorted Deviled Eggs\\n\\n*First Course:*\\n- Grilled Salmon Fillets with Lemon-Dill Butter Sauce\\n- Herb-Crusted Rack of Lamb\\n- Pan-Seared Duck Breast with Honey Glaze\\n\\n*Salad:*\\n- Mixed Greens Salad with Roasted Vegetables, Balsamic Vinaigrette\\n\\n*Second Course:*\\n- Beef Wellington with Truffle Sauce and Mashed Potatoes\\n- Grilled Portobello Mushrooms with Garlic Butter\\n- Shrimp and Gnocchi in Creamy Alfredo Sauce\\n\\n*Desserts:*\\n- Tiramisu with Espresso Liqueur\\n- Chocolate Fondue with Berries, Marshmallows, and Almonds\\n- Mini Pecan Pie Bars\\n\\n*Drinks:*\\n- Sparkling Water with Lemon and Lime\\n- Various Soft Drinks\\n- Coffee and Tea\\n- Fine Wine Selection\\n- Domestic Beer and Hard Cider (if applicable)\\n\\n---\\n\\nFeel free to adjust the menu items to better suit your needs or preferences.'"
      ]
     },
     "execution_count": 14,
     "metadata": {},
     "output_type": "execute_result"
    }
   ],
   "source": [
    "# Defining Tools Locally, Instead of Hugging Face tools, just pass Python functions:\n",
    "def suggest_menu(occasion: str) -> str:\n",
    "    if occasion == \"casual\":\n",
    "        return \"Pizza, snacks, and drinks.\"\n",
    "    elif occasion == \"formal\":\n",
    "        return \"3-course dinner with wine and dessert.\"\n",
    "    elif occasion == \"superhero\":\n",
    "        return \"Buffet with high-energy and healthy food.\"\n",
    "    return \"Custom menu for the butler.\"\n",
    "\n",
    "agent = CodeAgent(\n",
    "    tools={\"suggest_menu\": suggest_menu},\n",
    "    model=LocalOllamaModel(OLLAMA_MODEL),\n",
    "    authorized_imports=[\"datetime\"]\n",
    ")\n",
    "\n",
    "agent.run(\"Prepare a formal menu for the party.\", max_steps=3)\n"
   ]
  },
  {
   "cell_type": "code",
   "execution_count": 16,
   "id": "59852a4c-5e43-4693-8e1f-fef8f19375fd",
   "metadata": {},
   "outputs": [
    {
     "name": "stdout",
     "output_type": "stream",
     "text": [
      "Party Supplies Online & In-Store | 26 Party City Locations | Party … https://www.partycity.com/?msockid=05e87277e24e6cc7031c641ce3b46d77\n",
      "Party City Stores – Find Party Supplies & Decorations Near You https://stores.partycity.com/us/\n",
      "Decorations - Party City https://www.partycity.com/decorations?msockid=05e87277e24e6cc7031c641ce3b46d77\n",
      "Party Supplies - Party City https://www.partycity.com/party-supplies?msockid=05e87277e24e6cc7031c641ce3b46d77\n",
      "Theme Parties - Party Supplies & Ideas | Party City https://www.partycity.com/party-themes?msockid=05e87277e24e6cc7031c641ce3b46d77\n"
     ]
    }
   ],
   "source": [
    "# duckduckgo now used so far, below is just using the package\n",
    "from ddgs import DDGS\n",
    "\n",
    "with DDGS() as ddgs:\n",
    "    results = ddgs.text(\"party menu ideas\", max_results=5)\n",
    "    for r in results:\n",
    "        print(r[\"title\"], r[\"href\"])"
   ]
  }
 ],
 "metadata": {
  "kernelspec": {
   "display_name": "Python 3 (ipykernel)",
   "language": "python",
   "name": "python3"
  },
  "language_info": {
   "codemirror_mode": {
    "name": "ipython",
    "version": 3
   },
   "file_extension": ".py",
   "mimetype": "text/x-python",
   "name": "python",
   "nbconvert_exporter": "python",
   "pygments_lexer": "ipython3",
   "version": "3.13.5"
  }
 },
 "nbformat": 4,
 "nbformat_minor": 5
}
